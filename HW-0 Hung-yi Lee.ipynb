{
 "cells": [
  {
   "cell_type": "code",
   "execution_count": 44,
   "metadata": {},
   "outputs": [
    {
     "name": "stdout",
     "output_type": "stream",
     "text": [
      "[1226 1295 1301 1309 1332 1349 1378 1411 1434 1528]\n"
     ]
    }
   ],
   "source": [
    "import numpy as np\n",
    "\n",
    "with open('data/matrixA.txt',\"r\") as f:\n",
    "    matrixA = f.read().split(',')\n",
    "    matrixA = list(map(int,matrixA))\n",
    "\n",
    "with open('data/matrixB.txt',\"r\") as f:\n",
    "    matrixB = f.readlines()\n",
    "    matrixB = [i.strip('\\n') for i in matrixB]\n",
    "    matrixB = [list(map(int,j.split(','))) for j in matrixB]\n",
    "\n",
    "A = np.array(matrixA)\n",
    "B = np.array(matrixB)\n",
    "\n",
    "C = A.dot(B)\n",
    "C = np.sort(C)\n",
    "\n",
    "print(C)\n",
    "\n",
    "np.savetxt(\"ans_one.txt\", C, fmt=\"%d\")"
   ]
  },
  {
   "cell_type": "code",
   "execution_count": null,
   "metadata": {
    "collapsed": true
   },
   "outputs": [],
   "source": []
  }
 ],
 "metadata": {
  "kernelspec": {
   "display_name": "Python 3",
   "language": "python",
   "name": "python3"
  },
  "language_info": {
   "codemirror_mode": {
    "name": "ipython",
    "version": 3
   },
   "file_extension": ".py",
   "mimetype": "text/x-python",
   "name": "python",
   "nbconvert_exporter": "python",
   "pygments_lexer": "ipython3",
   "version": "3.6.8"
  }
 },
 "nbformat": 4,
 "nbformat_minor": 2
}
